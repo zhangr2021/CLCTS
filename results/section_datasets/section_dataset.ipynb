{
 "cells": [
  {
   "cell_type": "markdown",
   "id": "64a274c5",
   "metadata": {},
   "source": [
    "## Table of Contents\n",
    "* [Characteristics](#char)\n",
    "* [Publication Year](#pub)\n",
    "* [Embedding](#emb)\n",
    "* [Parsing](#pars)"
   ]
  },
  {
   "cell_type": "markdown",
   "id": "529a03aa",
   "metadata": {},
   "source": [
    "## characteristics <a class=\"anchor\" id=\"char\"></a>"
   ]
  },
  {
   "cell_type": "code",
   "execution_count": 1,
   "id": "299e210c",
   "metadata": {},
   "outputs": [],
   "source": [
    "import datetime\n",
    "import pandas as pd\n",
    "import json\n",
    "import numpy as np"
   ]
  },
  {
   "cell_type": "code",
   "execution_count": 2,
   "id": "a600a366",
   "metadata": {},
   "outputs": [],
   "source": [
    "df_hDe = pd.read_csv(\"../../dataset/CLCTS_corpus/CLCTS_hDe.csv\")\n",
    "df_hEn = pd.read_csv(\"../../dataset/CLCTS_corpus/CLCTS_hEn.csv\")"
   ]
  },
  {
   "cell_type": "code",
   "execution_count": 3,
   "id": "59cc553d",
   "metadata": {
    "scrolled": true
   },
   "outputs": [
    {
     "name": "stderr",
     "output_type": "stream",
     "text": [
      "/var/folders/2n/4742tn7s13l5fcnstlm_d7g40000gn/T/ipykernel_99223/1272594870.py:2: FutureWarning: Dropping of nuisance columns in DataFrame reductions (with 'numeric_only=None') is deprecated; in a future version this will raise TypeError.  Select only valid columns before calling the reduction.\n",
      "  print(hDe.count().loc[[\"document\", \"summary\", \"summary_de\"]], \"\\n\\n\" , hDe.mean(axis = 0)[2:].round(2))\n",
      "/var/folders/2n/4742tn7s13l5fcnstlm_d7g40000gn/T/ipykernel_99223/1272594870.py:4: FutureWarning: Dropping of nuisance columns in DataFrame reductions (with 'numeric_only=None') is deprecated; in a future version this will raise TypeError.  Select only valid columns before calling the reduction.\n",
      "  print(hEn_De.count().loc[[\"document\", \"summary\"]], \"\\n\\n\", hEn_De.mean(axis = 0).loc[[\"token_doc\", \"token_sum\"]].round(2))\n"
     ]
    },
    {
     "name": "stdout",
     "output_type": "stream",
     "text": [
      "document      328\n",
      "summary       328\n",
      "summary_de    328\n",
      "dtype: int64 \n",
      "\n",
      " token_doc       1398.37\n",
      "token_sum        324.28\n",
      "token_sum_ol     217.37\n",
      "dtype: float64\n",
      "document    289\n",
      "summary     289\n",
      "dtype: int64 \n",
      "\n",
      " token_doc    9643.27\n",
      "token_sum     413.99\n",
      "dtype: float64\n",
      "document      276\n",
      "summary_en    276\n",
      "dtype: int64 \n",
      "\n",
      " token_doc       9847.24\n",
      "token_sum_ol     488.05\n",
      "dtype: float64\n"
     ]
    },
    {
     "name": "stderr",
     "output_type": "stream",
     "text": [
      "/var/folders/2n/4742tn7s13l5fcnstlm_d7g40000gn/T/ipykernel_99223/1272594870.py:6: FutureWarning: Dropping of nuisance columns in DataFrame reductions (with 'numeric_only=None') is deprecated; in a future version this will raise TypeError.  Select only valid columns before calling the reduction.\n",
      "  print(hEn_En.count().loc[[\"document\", \"summary_en\"]], \"\\n\\n\", hEn_En.mean(axis = 0).loc[[\"token_doc\", \"token_sum_ol\"]].round(2))\n"
     ]
    }
   ],
   "source": [
    "hDe = df_hDe.dropna(subset = [\"summary_de\"])\n",
    "print(hDe.count().loc[[\"document\", \"summary\", \"summary_de\"]], \"\\n\\n\" , hDe.mean(axis = 0)[2:].round(2))\n",
    "hEn_De = df_hEn.dropna(subset = [\"summary\"])\n",
    "print(hEn_De.count().loc[[\"document\", \"summary\"]], \"\\n\\n\", hEn_De.mean(axis = 0).loc[[\"token_doc\", \"token_sum\"]].round(2))\n",
    "hEn_En = df_hEn.dropna(subset = [\"summary_en\"])\n",
    "print(hEn_En.count().loc[[\"document\", \"summary_en\"]], \"\\n\\n\", hEn_En.mean(axis = 0).loc[[\"token_doc\", \"token_sum_ol\"]].round(2))"
   ]
  },
  {
   "cell_type": "markdown",
   "id": "353f14c9",
   "metadata": {},
   "source": [
    "## Publication Year <a class=\"anchor\" id=\"pub\"></a>"
   ]
  },
  {
   "cell_type": "code",
   "execution_count": 4,
   "id": "5b426fa1",
   "metadata": {},
   "outputs": [],
   "source": [
    "import pandas as pd\n",
    "import json\n",
    "from langdetect import detect\n",
    "import numpy as np\n",
    "import seaborn as sns\n",
    "import matplotlib.pyplot as plt"
   ]
  },
  {
   "cell_type": "code",
   "execution_count": 5,
   "id": "76434c7a",
   "metadata": {},
   "outputs": [],
   "source": [
    "with open(\"../../dataset/external_corpus/Histsumm/Histsumm_de.json\", encoding='utf-8-sig') as f:\n",
    "    histsum = json.load(f)"
   ]
  },
  {
   "cell_type": "code",
   "execution_count": 6,
   "id": "383d99ce",
   "metadata": {},
   "outputs": [],
   "source": [
    "histsum = pd.DataFrame(histsum[\"text\"])"
   ]
  },
  {
   "cell_type": "code",
   "execution_count": 7,
   "id": "071d1c6b",
   "metadata": {},
   "outputs": [],
   "source": [
    "histsum[\"Year\"] = histsum.time.apply(lambda x: int(x.split(\"-\")[0]))"
   ]
  },
  {
   "cell_type": "code",
   "execution_count": 8,
   "id": "b5615c36",
   "metadata": {},
   "outputs": [
    {
     "name": "stdout",
     "output_type": "stream",
     "text": [
      "329 289\n"
     ]
    }
   ],
   "source": [
    "de_processed = df_hDe\n",
    "en_processed = df_hEn\n",
    "print(de_processed.id.nunique(), en_processed.id.nunique())"
   ]
  },
  {
   "cell_type": "code",
   "execution_count": 9,
   "id": "67f344ab",
   "metadata": {},
   "outputs": [
    {
     "data": {
      "image/png": "[encoded data removed]",
      "text/plain": [
       "<Figure size 360x144 with 1 Axes>"
      ]
     },
     "metadata": {
      "needs_background": "light"
     },
     "output_type": "display_data"
    }
   ],
   "source": [
    "plt.subplots(figsize = (5,2))\n",
    "sns.set_style(\"dark\")\n",
    "newBins = [1610]\n",
    "newBins.extend(list(range(1650, 1800, 20)))\n",
    "newBins.extend(list(range(1810, 1850, 10)))\n",
    "newBins.extend(list(range(1850, 1930, 20)))\n",
    "hist1, _ = np.histogram(de_processed.Year, bins=newBins, )\n",
    "df = pd.DataFrame({\"count\": hist1, \"bins\":range(len(hist1)), \"lang\":[\"CLCTS hDe-En\"]*len(hist1)})\n",
    "hist2, _ = np.histogram(en_processed.Year, bins=newBins)\n",
    "df = df.append(pd.DataFrame({\"count\": hist2, \"bins\":range(len(hist1)), \"lang\":[\"CLCTS hEn-De\"]*len(hist1)}))\n",
    "hist3, _ = np.histogram(histsum.Year, bins=newBins)\n",
    "df = df.append(pd.DataFrame({\"count\": hist3, \"bins\":range(len(hist1)), \"lang\":[\"HISTSUMM hDe-De\"]*len(hist1)}))\n",
    "# plot a bar diagram\n",
    "sns.barplot(data = df, x =\"bins\", y = \"count\", hue = \"lang\", palette= (\"green\", \"gray\", \"red\"),dodge=False)\n",
    "plt.xticks(range(len(hist1)),newBins[:-1])\n",
    "plt.xlabel(\"Publication Year\")\n",
    "plt.ylabel(\"Count\")\n",
    "plt.legend(title = \"\")\n",
    "plt.xticks(rotation=70)\n",
    "plt.show()"
   ]
  },
  {
   "cell_type": "markdown",
   "id": "3b070bee",
   "metadata": {},
   "source": [
    "# cross-lingual embedding distance <a class=\"anchor\" id=\"emb\"></a>"
   ]
  },
  {
   "cell_type": "code",
   "execution_count": 10,
   "id": "f48dc9ab",
   "metadata": {},
   "outputs": [],
   "source": [
    "import pandas as pd\n",
    "import numpy as np\n",
    "from sklearn.metrics.pairwise import cosine_similarity, euclidean_distances\n",
    "import os\n",
    "import matplotlib.pyplot as plt \n",
    "import seaborn as sns\n",
    "import pickle"
   ]
  },
  {
   "cell_type": "code",
   "execution_count": 11,
   "id": "07459457",
   "metadata": {},
   "outputs": [],
   "source": [
    "english = pd.read_pickle(\"./statistics_english_sent.pkl\")\n",
    "german = pd.read_pickle(\"./statistics_german_sent.pkl\")"
   ]
  },
  {
   "cell_type": "code",
   "execution_count": 12,
   "id": "166b3852",
   "metadata": {},
   "outputs": [
    {
     "data": {
      "text/plain": [
       "dataset   col                 \n",
       "CLCT_hDe  reference_summary_tl    18.6\n",
       "CLCT_hEn  reference_summary_sl    20.2\n",
       "          text                    16.0\n",
       "cnndm     article                 20.5\n",
       "          highlights              14.5\n",
       "wiki      document_en             16.5\n",
       "          summary_en               6.5\n",
       "Name: n_tokens, dtype: float64"
      ]
     },
     "execution_count": 12,
     "metadata": {},
     "output_type": "execute_result"
    }
   ],
   "source": [
    "# table 2 statistics\n",
    "english[english.n_tokens > 1].groupby([\"dataset\", \"col\"]).n_tokens.mean().round(1)"
   ]
  },
  {
   "cell_type": "code",
   "execution_count": 13,
   "id": "5763022a",
   "metadata": {},
   "outputs": [
    {
     "data": {
      "text/plain": [
       "dataset   col                 \n",
       "CLCT_hDe  reference_summary_sl    16.6\n",
       "          text                    25.4\n",
       "CLCT_hEn  reference_summary_tl    19.2\n",
       "histsum   story                   36.3\n",
       "          summary                 12.4\n",
       "mlsum     doc                     17.8\n",
       "          summary                 12.7\n",
       "wiki      document_de             15.8\n",
       "          summary_de               6.9\n",
       "Name: n_tokens, dtype: float64"
      ]
     },
     "execution_count": 13,
     "metadata": {},
     "output_type": "execute_result"
    }
   ],
   "source": [
    "# table 2 statistics\n",
    "german[german.n_tokens > 1].groupby([\"dataset\", \"col\"]).n_tokens.mean().round(1)"
   ]
  },
  {
   "cell_type": "code",
   "execution_count": 14,
   "id": "5a9ee033",
   "metadata": {},
   "outputs": [],
   "source": [
    "res = pd.read_csv(\"./embedding_distance/all_datasets_embedding_distance.csv\")"
   ]
  },
  {
   "cell_type": "code",
   "execution_count": 15,
   "id": "163e7e1a",
   "metadata": {
    "scrolled": true
   },
   "outputs": [
    {
     "data": {
      "text/plain": [
       "dataset   doc-sum                  \n",
       "CLCT_hDe  text-reference_summary_sl    0.38\n",
       "          text-reference_summary_tl    0.33\n",
       "CLCT_hEn  text-reference_summary_sl    0.25\n",
       "          text-reference_summary_tl    0.27\n",
       "cnndm     article-highlights           0.32\n",
       "histsum   story-summary                0.39\n",
       "mlsum     doc-summary                  0.37\n",
       "wiki      document_de-summary_de       0.46\n",
       "          document_de-summary_en       0.42\n",
       "          document_en-summary_de       0.42\n",
       "          document_en-summary_en       0.42\n",
       "Name: similarity, dtype: float64"
      ]
     },
     "execution_count": 15,
     "metadata": {},
     "output_type": "execute_result"
    }
   ],
   "source": [
    "res.groupby([\"dataset\", \"doc-sum\"]).similarity.mean().round(2)"
   ]
  },
  {
   "cell_type": "markdown",
   "id": "9dc621c6",
   "metadata": {},
   "source": [
    "# Parsing  <a class=\"anchor\" id=\"pars\"></a>"
   ]
  },
  {
   "cell_type": "code",
   "execution_count": 16,
   "id": "d5ed2e6c",
   "metadata": {},
   "outputs": [],
   "source": [
    "import pandas as pd\n",
    "import seaborn as sns\n",
    "import matplotlib.pyplot as plt"
   ]
  },
  {
   "cell_type": "code",
   "execution_count": 17,
   "id": "e0a250b2",
   "metadata": {},
   "outputs": [],
   "source": [
    "stanza_de = pd.read_csv(\"./parsing/german_parsing_result_stanford_all.csv\")\n",
    "de = german"
   ]
  },
  {
   "cell_type": "code",
   "execution_count": 18,
   "id": "780c7ceb",
   "metadata": {},
   "outputs": [],
   "source": [
    "de = pd.merge(de, stanza_de, on = \"sentence\", how = \"left\")\n",
    "parse = pd.DataFrame(de[de.n_tokens>3].groupby([\"dataset\", \"col\"]).mean()).reset_index()"
   ]
  },
  {
   "cell_type": "code",
   "execution_count": 19,
   "id": "b4a19e4c",
   "metadata": {},
   "outputs": [
    {
     "data": {
      "text/plain": [
       "array(['CLCT_hDe', 'CLCT_hEn', 'histsum', 'mlsum', 'wiki'], dtype=object)"
      ]
     },
     "execution_count": 19,
     "metadata": {},
     "output_type": "execute_result"
    }
   ],
   "source": [
    "parse[\"doc-sum\"] = parse.col.apply(lambda x: \"summary\" if \"sum\" in x else \"document\")\n",
    "df = parse.set_index(\"dataset\").loc[['CLCT_hDe', 'histsum', 'mlsum', 'wiki']].reset_index()\n",
    "df = pd.melt(df[[\"dataset\", \"dependency_distance_mean\", \"mean_height\", \"doc-sum\"]], id_vars=['dataset', \"doc-sum\"],)\n",
    "df[\"heu\"] = df.apply(lambda x:\"-\".join([x[\"doc-sum\"], x[\"variable\"]]),axis = 1)\n",
    "parse[\"dataset\"].unique()"
   ]
  },
  {
   "cell_type": "code",
   "execution_count": 20,
   "id": "0801f464",
   "metadata": {
    "scrolled": true
   },
   "outputs": [],
   "source": [
    "en = english\n",
    "stanza_en = pd.read_csv(\"./parsing/english_parsing_result_stanford_all.csv\")"
   ]
  },
  {
   "cell_type": "code",
   "execution_count": 21,
   "id": "3a3d23e6",
   "metadata": {},
   "outputs": [],
   "source": [
    "merged = pd.merge(en, stanza_en, on = \"sentence\", how = \"right\")\n",
    "merged = merged.drop_duplicates()"
   ]
  },
  {
   "cell_type": "code",
   "execution_count": 22,
   "id": "da5e3ec1",
   "metadata": {},
   "outputs": [],
   "source": [
    "parse_ = pd.DataFrame(merged[merged.n_tokens>3].groupby([\"dataset\", \"col\"]).mean()).reset_index()\n",
    "parse_[\"doc-sum\"] = parse_.col.apply(lambda x: \"summary\" if (\"sum\" in x) or (\"high\" in x) else \"document\")"
   ]
  },
  {
   "cell_type": "code",
   "execution_count": 23,
   "id": "44a86d9c",
   "metadata": {},
   "outputs": [],
   "source": [
    "df_ = parse_.set_index(\"dataset\").loc[['CLCT_hEn', 'cnndm', 'wiki']].reset_index()\n",
    "df_ = pd.melt(df_[[\"dataset\", \"dependency_distance_mean\", \"mean_height\", \"doc-sum\"]], id_vars=['dataset', \"doc-sum\"],)\n",
    "df_[\"heu\"] = df_.apply(lambda x:\"-\".join([x[\"doc-sum\"], x[\"variable\"]]),axis = 1)"
   ]
  },
  {
   "cell_type": "code",
   "execution_count": 24,
   "id": "20c56945",
   "metadata": {},
   "outputs": [],
   "source": [
    "df_.dataset = df_.dataset.replace({\"wiki\":\"wiki_en\"})"
   ]
  },
  {
   "cell_type": "code",
   "execution_count": 25,
   "id": "c8898222",
   "metadata": {
    "scrolled": true
   },
   "outputs": [],
   "source": [
    "all_ = df.append(df_).reset_index()"
   ]
  },
  {
   "cell_type": "code",
   "execution_count": 26,
   "id": "93b4b695",
   "metadata": {},
   "outputs": [
    {
     "data": {
      "text/plain": [
       "Text(0, 0.5, 'Mean Dependency Distance')"
      ]
     },
     "execution_count": 26,
     "metadata": {},
     "output_type": "execute_result"
    },
    {
     "data": {
      "image/png": "[encoded data removed]",
      "text/plain": [
       "<Figure size 360x144 with 1 Axes>"
      ]
     },
     "metadata": {},
     "output_type": "display_data"
    }
   ],
   "source": [
    "plt.subplots(figsize = (5,2))\n",
    "sns.set_style(\"dark\")\n",
    "sns.lineplot(x = \"dataset\", y = \"value\", data = all_[(all_[\"doc-sum\"] == \"document\") & \n",
    "                                                     (all_[\"variable\"] == \"dependency_distance_mean\")], hue =\"heu\", style = \"heu\",  marker = \"o\")\n",
    "plt.legend(title = \"\", labels = [\"MDD document\"])#labels = [\"MDD summary\", \"MDD document\", \"MTH summary\", \"MTH document\"])\n",
    "plt.xticks(list(range(7)), \n",
    "           [\"CLCTS hDe\", \"HISTSUMM hDe\", \"MLSUM De\", \"Wikilingua De\", \n",
    "            \"CLCTS hEn\", \"CNN/Daily Mail En\", \"Wikilingua En\"],\n",
    "          rotation=45)\n",
    "plt.ylim([2.5, 4])\n",
    "plt.xlabel('')\n",
    "plt.ylabel('Mean Dependency Distance')"
   ]
  },
  {
   "cell_type": "code",
   "execution_count": null,
   "id": "5b1b67d6",
   "metadata": {},
   "outputs": [],
   "source": []
  },
  {
   "cell_type": "code",
   "execution_count": null,
   "id": "d25a3093",
   "metadata": {},
   "outputs": [],
   "source": []
  }
 ],
 "metadata": {
  "kernelspec": {
   "display_name": "Python [conda env:pytorch_env] *",
   "language": "python",
   "name": "conda-env-pytorch_env-py"
  },
  "language_info": {
   "codemirror_mode": {
    "name": "ipython",
    "version": 3
   },
   "file_extension": ".py",
   "mimetype": "text/x-python",
   "name": "python",
   "nbconvert_exporter": "python",
   "pygments_lexer": "ipython3",
   "version": "3.8.12"
  }
 },
 "nbformat": 4,
 "nbformat_minor": 5
}
